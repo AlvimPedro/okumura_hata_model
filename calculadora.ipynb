{
 "cells": [
  {
   "cell_type": "code",
   "execution_count": 2,
   "source": [
    "import math\n",
    "import matplotlib.pyplot as plt"
   ],
   "outputs": [],
   "metadata": {}
  },
  {
   "cell_type": "markdown",
   "source": [
    "# Estrutura das Células\n",
    "Elas são compostas por 3 modulações, 16-QAM, 64-QAM e 256-QAM.\n",
    "\n",
    "Primeiramente foi calculado e analisado o SINR nas 3 modulações, utilizando:\n",
    "\n",
    "- SCS (Espaçamento entre sub-portadoras) = 15 kHz\n",
    "- Banda da portadora = 180 kHz\n",
    "\n",
    "Com isso ainda vai ser analisado a banda utilizada baseada no número de RB e de usuários desejados."
   ],
   "metadata": {}
  },
  {
   "cell_type": "code",
   "execution_count": 31,
   "source": [
    "#SCS = 15 kHz\n",
    "#Banda = 180 kHz\n",
    "\n",
    "def r_sinr_16_qam(sinr):\n",
    "    r = 47613.1 / (0.0926275 + math.exp(-0.295838 * sinr)) #bits/s\n",
    "\n",
    "    return r / (10**6) #Mbits/s\n",
    "\n",
    "def r_sinr_64_qam(sinr):\n",
    "    r = 26405.8 / (0.0220186 + math.exp(-0.24491 * sinr)) #bits/s\n",
    "\n",
    "    return r / (10**6) #Mbits/s\n",
    "\n",
    "def r_sinr_256_qam(sinr):\n",
    "    r = 26407.1 / (0.0178868 + math.exp(-0.198952 * sinr)) #bits/s\n",
    "\n",
    "    return r / (10**6) #Mbits/s"
   ],
   "outputs": [],
   "metadata": {}
  },
  {
   "cell_type": "code",
   "execution_count": 76,
   "source": [
    "eixo_sinr = []\n",
    "eixo_r_16, eixo_r_64, eixo_r_256 = [], [], []\n",
    "\n",
    "for i in range(-100, 460, 1):\n",
    "\n",
    "    eixo_sinr.append(i/10)\n",
    "\n",
    "    eixo_r_16.append(r_sinr_16_qam(i/10))\n",
    "    eixo_r_64.append(r_sinr_64_qam(i/10))\n",
    "    eixo_r_256.append(r_sinr_256_qam(i/10))\n",
    "\n",
    "plt.plot(eixo_sinr, eixo_r_16, label = \"16-QAM\")\n",
    "plt.plot(eixo_sinr, eixo_r_64, label = \"64-QAM\")\n",
    "plt.plot(eixo_sinr, eixo_r_256, label = \"256-QAM\")\n",
    "\n",
    "#plt.title('Variando o fc: hb = 50m, R = 2Km')\n",
    "plt.xlabel('SINR (dB)')\n",
    "plt.ylabel('Throughput por RB (Mbits/s)')\n",
    "\n",
    "plt.legend()\n",
    "\n",
    "plt.show()"
   ],
   "outputs": [
    {
     "output_type": "display_data",
     "data": {
      "image/png": "[encoded data removed]",
      "text/plain": [
       "<Figure size 432x288 with 1 Axes>"
      ]
     },
     "metadata": {
      "needs_background": "light"
     }
    }
   ],
   "metadata": {}
  },
  {
   "cell_type": "code",
   "execution_count": 86,
   "source": [
    "print(f'SINR para 16-QAM: 5,5dB')\n",
    "print(f'Gerando um throughput mínimo de {round(r_sinr_16_qam(5.5), 3)} Mbits por RB\\n')\n",
    "# print(r_sinr_16_qam(5.5))\n",
    "\n",
    "print(f'SINR para 64-QAM: 13dB')\n",
    "print(f'Gerando um throughput mínimo de {round(r_sinr_64_qam(13), 3)} Mbits por RB\\n')\n",
    "# print(r_sinr_16_qam(13))\n",
    "# print(r_sinr_64_qam(13))\n",
    "\n",
    "print(f'SINR para 256-QAM: 25,7dB')\n",
    "print(f'Gerando um throughput mínimo de {round(r_sinr_256_qam(25.7), 3)} Mbits por RB\\n')\n",
    "# print(r_sinr_16_qam(25.7))\n",
    "# print(r_sinr_64_qam(25.7))"
   ],
   "outputs": [
    {
     "output_type": "stream",
     "name": "stdout",
     "text": [
      "SINR para 16-QAM: 5,5dB\n",
      "Gerando um throughput mínimo de 0.165 Mbits por RB\n",
      "\n",
      "SINR para 64-QAM: 13dB\n",
      "Gerando um throughput mínimo de 0.416 Mbits por RB\n",
      "\n",
      "SINR para 256-QAM: 25,7dB\n",
      "Gerando um throughput mínimo de 1.105 Mbits por RB\n",
      "\n"
     ]
    }
   ],
   "metadata": {}
  },
  {
   "cell_type": "markdown",
   "source": [
    "# Ambiente\n",
    "\n",
    "Foi selecionado o campus Darcy Ribeiro da UnB que tem aproximadamente 3950569 m² (3,95 km²).\n",
    "\n",
    "Onde tem com os estudantes, docentes e funcionários, 54034 possíveis usuários.\n",
    "\n",
    "Mas considerando um fluxo de 20% desse total, sendo 10807 possíveis usuários simultaneos.\n"
   ],
   "metadata": {}
  },
  {
   "cell_type": "markdown",
   "source": [
    "Foi utilizado o modelo de Okamura Hata e considerado a UnB como uma Área Suburbana"
   ],
   "metadata": {}
  },
  {
   "cell_type": "markdown",
   "source": [
    "Com isso foi escolhido uma banda de 50 MHz ficando com um número de 270 Resource Blocks"
   ],
   "metadata": {}
  },
  {
   "cell_type": "code",
   "execution_count": 48,
   "source": [
    "def okamura(fc, hb, r):\n",
    "\n",
    "    a = 69.55 + 26.16*math.log10(fc) - 13.82*math.log10(hb)\n",
    "\n",
    "    b = 44.9 - 6.55*math.log10(hb)\n",
    "\n",
    "    c = 5.4 + 2*(math.log10(fc/28))**2\n",
    "\n",
    "    d = 40.94 + 4.78*(math.log10(fc))**2 - 18.33*math.log10(fc)\n",
    "\n",
    "\n",
    "    L_urbana = a + b*math.log10(r)\n",
    "    L_suburbana = a + b*math.log10(r) -c\n",
    "    L_aberta = a + b*math.log10(r) -d\n",
    "\n",
    "    return L_urbana, L_suburbana, L_aberta"
   ],
   "outputs": [],
   "metadata": {}
  },
  {
   "cell_type": "markdown",
   "source": [
    "Utilizando o FR1 de utilização do espectro, (450 MHz - 6 GHz) com 50 MHz de largura de banda. Foi utilizado a faixa de 450 - 500 MHz."
   ],
   "metadata": {}
  },
  {
   "cell_type": "code",
   "execution_count": 89,
   "source": [
    "fc = 500 #MHz\n",
    "hb = 30  #m\n",
    "\n",
    "l_r1, l_r2, l_r3 = [], [], []\n",
    "eixo_r = []\n",
    "\n",
    "for i in range(1, 100, 1):\n",
    "    l1, l2, l3 = okamura(fc, hb, i/10)\n",
    "\n",
    "    l_r1.append(l1)\n",
    "    l_r2.append(l2)\n",
    "    l_r3.append(l3)\n",
    "    eixo_r.append(i/10)\n",
    "\n",
    "plt.plot(eixo_r, l_r1, label = \"L Urbana\")\n",
    "plt.plot(eixo_r, l_r2, label = \"L Suburbana\")\n",
    "plt.plot(eixo_r, l_r3, label = \"L Aberta\")\n",
    "\n",
    "plt.title('Variando o R: fc = 500MHz, hb = 30m')\n",
    "plt.xlabel('R (Km)')\n",
    "plt.ylabel('L_T (dB)')\n",
    "\n",
    "plt.legend()\n",
    "\n",
    "plt.show()\n"
   ],
   "outputs": [
    {
     "output_type": "display_data",
     "data": {
      "image/png": "[encoded data removed]",
      "text/plain": [
       "<Figure size 432x288 with 1 Axes>"
      ]
     },
     "metadata": {
      "needs_background": "light"
     }
    }
   ],
   "metadata": {}
  },
  {
   "cell_type": "markdown",
   "source": [
    "# Limitando a perda de percurso em 120 dB\n",
    "\n",
    "SINR mínimo de cada modulação e com a utilização do Okamura Hata para a perda de propagação, foi limitada a perda de percurso em 120 dB, ficando:"
   ],
   "metadata": {}
  },
  {
   "cell_type": "markdown",
   "source": [
    "16-QAM\n",
    "- SINR = 5,5 dB\n",
    "- L_t = 114,5 dB\n",
    "\n",
    "64-QAM\n",
    "- SINR = 13 dB\n",
    "- L_t = 107 dB\n",
    "\n",
    "256-QAM\n",
    "- SINR = 25,7 dB\n",
    "- L_t = 94,3 dB\n",
    "\n",
    "Agora calculando o raio das células:"
   ],
   "metadata": {}
  },
  {
   "cell_type": "code",
   "execution_count": 52,
   "source": [
    "def raio_celula_M_qam(sinr):\n",
    "    r = 0\n",
    "    a = 0\n",
    "\n",
    "    for i in range(1, 100, 1):\n",
    "        l1, l2, l3 = okamura(fc, hb, i/10)\n",
    "        \n",
    "        if l2 > (120 - sinr) and a == 0:\n",
    "            r = i/10\n",
    "            a = 1\n",
    "    \n",
    "    return r"
   ],
   "outputs": [],
   "metadata": {}
  },
  {
   "cell_type": "code",
   "execution_count": 67,
   "source": [
    "r_16 = raio_celula_M_qam(5.5)\n",
    "r_64 = raio_celula_M_qam(13)\n",
    "r_256 = raio_celula_M_qam(25.7)\n",
    "\n",
    "print(f'Raio do 16-QAM: {r_16} km\\n')\n",
    "print(f'Raio do 64-QAM: {r_64} km\\n')\n",
    "print(f'Raio do 256-QAM: {r_256} km\\n')"
   ],
   "outputs": [
    {
     "output_type": "stream",
     "name": "stdout",
     "text": [
      "Raio do 16-QAM: 1.3 km\n",
      "\n",
      "Raio do 64-QAM: 0.8 km\n",
      "\n",
      "Raio do 256-QAM: 0.4 km\n",
      "\n"
     ]
    }
   ],
   "metadata": {}
  },
  {
   "cell_type": "code",
   "execution_count": 87,
   "source": [
    "def area_celula(r):\n",
    "    \n",
    "    a = 3 / 2 * math.sqrt(3) * (r*0.95)**2\n",
    "\n",
    "    return a"
   ],
   "outputs": [],
   "metadata": {}
  },
  {
   "cell_type": "code",
   "execution_count": 88,
   "source": [
    "a_16 = area_celula(r_16)\n",
    "a_64 = area_celula(r_64)\n",
    "a_256 = area_celula(r_256)\n",
    "\n",
    "print(f'Área do 16-QAM: {round(a_16, 2)} km²\\n')\n",
    "print(f'Área do 64-QAM: {round(a_64, 2)} km²\\n')\n",
    "print(f'Área do 256-QAM: {round(a_256, 2)} km²\\n')"
   ],
   "outputs": [
    {
     "output_type": "stream",
     "name": "stdout",
     "text": [
      "Área do 16-QAM: 3.96 km²\n",
      "\n",
      "Área do 64-QAM: 1.5 km²\n",
      "\n",
      "Área do 256-QAM: 0.38 km²\n",
      "\n"
     ]
    }
   ],
   "metadata": {}
  },
  {
   "cell_type": "markdown",
   "source": [
    "# Conclusões\n",
    "\n",
    "Dessa forma uma única célula preencheria toda a área da UnB caso essa área fosse centralizada. Porém além do problema da área não ser uniforme, mas considerando esse caso como simplicação. Também tem o problema que o throughput por RB não é necessário para a quantidade de usuários e de uso que essa rede será aplicada.\n",
    "\n",
    "Assim, é possível considerar um SINR maior para conseguir um maior throughput por RB e diminuindo o raio da célua a perda total de percurso pode continuar a mesma."
   ],
   "metadata": {}
  },
  {
   "cell_type": "code",
   "execution_count": null,
   "source": [],
   "outputs": [],
   "metadata": {}
  }
 ],
 "metadata": {
  "orig_nbformat": 4,
  "language_info": {
   "name": "python",
   "version": "3.9.7",
   "mimetype": "text/x-python",
   "codemirror_mode": {
    "name": "ipython",
    "version": 3
   },
   "pygments_lexer": "ipython3",
   "nbconvert_exporter": "python",
   "file_extension": ".py"
  },
  "kernelspec": {
   "name": "python3",
   "display_name": "Python 3.9.7 64-bit ('jupyter': conda)"
  },
  "interpreter": {
   "hash": "75400107e44e7a9ac281a439759d0c5a79a31609257d3fb609e3f176f29131a1"
  }
 },
 "nbformat": 4,
 "nbformat_minor": 2
}